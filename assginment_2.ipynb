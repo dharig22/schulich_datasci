{
 "cells": [
  {
   "attachments": {},
   "cell_type": "markdown",
   "metadata": {},
   "source": [
    "DATA SCIENCE I ASSIGNMENT 2"
   ]
  },
  {
   "cell_type": "code",
   "execution_count": 9,
   "metadata": {},
   "outputs": [],
   "source": [
    "# Import libraries \n",
    "import pandas as pd "
   ]
  },
  {
   "cell_type": "code",
   "execution_count": 4,
   "metadata": {},
   "outputs": [
    {
     "data": {
      "text/html": [
       "<div>\n",
       "<style scoped>\n",
       "    .dataframe tbody tr th:only-of-type {\n",
       "        vertical-align: middle;\n",
       "    }\n",
       "\n",
       "    .dataframe tbody tr th {\n",
       "        vertical-align: top;\n",
       "    }\n",
       "\n",
       "    .dataframe thead th {\n",
       "        text-align: right;\n",
       "    }\n",
       "</style>\n",
       "<table border=\"1\" class=\"dataframe\">\n",
       "  <thead>\n",
       "    <tr style=\"text-align: right;\">\n",
       "      <th></th>\n",
       "      <th>Unnamed: 0</th>\n",
       "      <th>Age</th>\n",
       "      <th>Location</th>\n",
       "      <th>Device</th>\n",
       "      <th>Variant</th>\n",
       "      <th>Time Spent</th>\n",
       "      <th>CTR</th>\n",
       "    </tr>\n",
       "  </thead>\n",
       "  <tbody>\n",
       "    <tr>\n",
       "      <th>0</th>\n",
       "      <td>0</td>\n",
       "      <td>62</td>\n",
       "      <td>Location2</td>\n",
       "      <td>Device2</td>\n",
       "      <td>Control</td>\n",
       "      <td>13.928669</td>\n",
       "      <td>0.084776</td>\n",
       "    </tr>\n",
       "    <tr>\n",
       "      <th>1</th>\n",
       "      <td>1</td>\n",
       "      <td>18</td>\n",
       "      <td>Location1</td>\n",
       "      <td>Device1</td>\n",
       "      <td>Variant B</td>\n",
       "      <td>11.310518</td>\n",
       "      <td>0.096859</td>\n",
       "    </tr>\n",
       "    <tr>\n",
       "      <th>2</th>\n",
       "      <td>2</td>\n",
       "      <td>21</td>\n",
       "      <td>Location2</td>\n",
       "      <td>Device1</td>\n",
       "      <td>Variant B</td>\n",
       "      <td>24.842100</td>\n",
       "      <td>0.097630</td>\n",
       "    </tr>\n",
       "    <tr>\n",
       "      <th>3</th>\n",
       "      <td>3</td>\n",
       "      <td>21</td>\n",
       "      <td>Location1</td>\n",
       "      <td>Device3</td>\n",
       "      <td>Variant B</td>\n",
       "      <td>20.061300</td>\n",
       "      <td>0.109783</td>\n",
       "    </tr>\n",
       "    <tr>\n",
       "      <th>4</th>\n",
       "      <td>4</td>\n",
       "      <td>57</td>\n",
       "      <td>Location1</td>\n",
       "      <td>Device2</td>\n",
       "      <td>Variant B</td>\n",
       "      <td>34.495503</td>\n",
       "      <td>0.068579</td>\n",
       "    </tr>\n",
       "    <tr>\n",
       "      <th>...</th>\n",
       "      <td>...</td>\n",
       "      <td>...</td>\n",
       "      <td>...</td>\n",
       "      <td>...</td>\n",
       "      <td>...</td>\n",
       "      <td>...</td>\n",
       "      <td>...</td>\n",
       "    </tr>\n",
       "    <tr>\n",
       "      <th>995</th>\n",
       "      <td>995</td>\n",
       "      <td>39</td>\n",
       "      <td>Location2</td>\n",
       "      <td>Device2</td>\n",
       "      <td>Variant B</td>\n",
       "      <td>17.252030</td>\n",
       "      <td>0.092211</td>\n",
       "    </tr>\n",
       "    <tr>\n",
       "      <th>996</th>\n",
       "      <td>996</td>\n",
       "      <td>38</td>\n",
       "      <td>Location3</td>\n",
       "      <td>Device2</td>\n",
       "      <td>Control</td>\n",
       "      <td>30.075898</td>\n",
       "      <td>0.078151</td>\n",
       "    </tr>\n",
       "    <tr>\n",
       "      <th>997</th>\n",
       "      <td>997</td>\n",
       "      <td>60</td>\n",
       "      <td>Location2</td>\n",
       "      <td>Device3</td>\n",
       "      <td>Control</td>\n",
       "      <td>31.929223</td>\n",
       "      <td>0.125213</td>\n",
       "    </tr>\n",
       "    <tr>\n",
       "      <th>998</th>\n",
       "      <td>998</td>\n",
       "      <td>35</td>\n",
       "      <td>Location2</td>\n",
       "      <td>Device2</td>\n",
       "      <td>Variant B</td>\n",
       "      <td>14.680299</td>\n",
       "      <td>0.095423</td>\n",
       "    </tr>\n",
       "    <tr>\n",
       "      <th>999</th>\n",
       "      <td>999</td>\n",
       "      <td>55</td>\n",
       "      <td>Location1</td>\n",
       "      <td>Device1</td>\n",
       "      <td>Variant B</td>\n",
       "      <td>25.803169</td>\n",
       "      <td>0.166688</td>\n",
       "    </tr>\n",
       "  </tbody>\n",
       "</table>\n",
       "<p>1000 rows × 7 columns</p>\n",
       "</div>"
      ],
      "text/plain": [
       "     Unnamed: 0  Age   Location   Device    Variant  Time Spent       CTR\n",
       "0             0   62  Location2  Device2    Control   13.928669  0.084776\n",
       "1             1   18  Location1  Device1  Variant B   11.310518  0.096859\n",
       "2             2   21  Location2  Device1  Variant B   24.842100  0.097630\n",
       "3             3   21  Location1  Device3  Variant B   20.061300  0.109783\n",
       "4             4   57  Location1  Device2  Variant B   34.495503  0.068579\n",
       "..          ...  ...        ...      ...        ...         ...       ...\n",
       "995         995   39  Location2  Device2  Variant B   17.252030  0.092211\n",
       "996         996   38  Location3  Device2    Control   30.075898  0.078151\n",
       "997         997   60  Location2  Device3    Control   31.929223  0.125213\n",
       "998         998   35  Location2  Device2  Variant B   14.680299  0.095423\n",
       "999         999   55  Location1  Device1  Variant B   25.803169  0.166688\n",
       "\n",
       "[1000 rows x 7 columns]"
      ]
     },
     "execution_count": 4,
     "metadata": {},
     "output_type": "execute_result"
    }
   ],
   "source": [
    "# Import dataset\n",
    "df = pd.read_csv(\"experiment_dataset.csv\")\n",
    "df"
   ]
  },
  {
   "attachments": {},
   "cell_type": "markdown",
   "metadata": {},
   "source": [
    "1. Analyze the results to determine which feature (if any) results in CTR or Time Spent lift.\n",
    "\n",
    "We can determine this through first isolating the data by feature variants (Control, Variant A, Variant B) and then comparing them to the mean CTR and Time Spent for each Variant. "
   ]
  },
  {
   "cell_type": "code",
   "execution_count": 5,
   "metadata": {},
   "outputs": [
    {
     "name": "stdout",
     "output_type": "stream",
     "text": [
      "     Variant       CTR  Time Spent\n",
      "0    Control  0.098554   20.070781\n",
      "1  Variant A  0.120269   24.805547\n",
      "2  Variant B  0.108933   23.343783\n"
     ]
    }
   ],
   "source": [
    "# Group the data by variant and calculate mean of CTR and Time Spent for each variant\n",
    "grouped_data = df.groupby('Variant').agg({'CTR': 'mean', 'Time Spent': 'mean'}).reset_index()\n",
    "\n",
    "# Display the grouped data\n",
    "print(grouped_data)"
   ]
  },
  {
   "attachments": {},
   "cell_type": "markdown",
   "metadata": {},
   "source": [
    "Using the groupby function, we can see the mean CTR and Time Spent for each variant. However, in order to determine if there is a significant lift in CTR or Time Spent with either of the feature variants compared to the control, we need to look for a higher mean value in these matrics. \n",
    "\n",
    "*Note: Lift is calculated as the percentage incrase in the metric, compared to the control group."
   ]
  },
  {
   "cell_type": "code",
   "execution_count": 7,
   "metadata": {},
   "outputs": [
    {
     "name": "stdout",
     "output_type": "stream",
     "text": [
      "     Variant       CTR  Time Spent  CTR Lift  Time Spent Lift\n",
      "0    Control  0.098554   20.070781  0.000000         0.000000\n",
      "1  Variant A  0.120269   24.805547  0.220339         0.235903\n",
      "2  Variant B  0.108933   23.343783  0.105312         0.163073\n"
     ]
    }
   ],
   "source": [
    "# Calculate lift\n",
    "grouped_data['CTR Lift'] = (grouped_data['CTR'] - grouped_data.loc[grouped_data['Variant'] == 'Control', 'CTR'].values[0]) / grouped_data.loc[grouped_data['Variant'] == 'Control', 'CTR'].values[0]\n",
    "grouped_data['Time Spent Lift'] = (grouped_data['Time Spent'] - grouped_data.loc[grouped_data['Variant'] == 'Control', 'Time Spent'].values[0]) / grouped_data.loc[grouped_data['Variant'] == 'Control', 'Time Spent'].values[0]\n",
    "\n",
    "# Display the grouped data with lift\n",
    "print(grouped_data)"
   ]
  },
  {
   "attachments": {},
   "cell_type": "markdown",
   "metadata": {},
   "source": [
    "Based on the results, the following interpretations can be made: \n",
    "\n",
    "Variant A: \n",
    "- The CTR improved by 22.03% compared to the control group \n",
    "- Time Spent improved by 23.59% compared to the control group\n",
    "\n",
    "Variant B: \n",
    "- The CTR improved by 10.53% compared to the control group\n",
    "- Time Spent improved by 16.31% compared to the control group\n",
    "\n",
    "Therefore, the analysis shows that both Variant A and B resulted in a CTR and Time Spent lift compared to the control group. Given the data, variant A seems to be the most promising feature variant, providing a higher lift in both CTR and Time Spent compared to Variant B."
   ]
  },
  {
   "attachments": {},
   "cell_type": "markdown",
   "metadata": {},
   "source": [
    "2. Conduct statistical testing to determine if there is a statistically significant difference between the features and the control group.\n",
    "\n",
    "A/B testing scenario compares the means of two groups to determine if they're significantly different. We can perform this using the stats package from scipy library. \n",
    "\n",
    "Test Set-up: \n",
    "- Null Hypothesis (H0): There is no difference in CTR or Time Spent between the control group and the variant groups (A and B).\n",
    "- Alternative Hypothesis (H1): There is a difference in CTR or Time Spent between the control group and the variant groups (A and B)."
   ]
  },
  {
   "cell_type": "code",
   "execution_count": 12,
   "metadata": {},
   "outputs": [
    {
     "name": "stdout",
     "output_type": "stream",
     "text": [
      "CTR t-test: Control vs Variant A: t_stat =  -13.829424737499187 , p-value =  1.9602781373243157e-38\n",
      "Time Spent t-test: Control vs Variant A: t_stat =  -12.142363487472364 , p-value =  8.488565644996449e-31\n",
      "CTR t-test: Control vs Variant B: t_stat =  -6.4718143491783255 , p-value =  1.8743198199982106e-10\n",
      "Time Spent: for Control vs Variant B: t_stat =  -8.174237395991806 , p-value =  1.496358076285182e-15\n"
     ]
    }
   ],
   "source": [
    "from scipy.stats import ttest_ind\n",
    "\n",
    "# Isolate data for each variant\n",
    "control = df[df['Variant'] == 'Control']\n",
    "variant_A = df[df['Variant'] == 'Variant A']\n",
    "variant_B = df[df['Variant'] == 'Variant B']\n",
    "\n",
    "# Perform t-test for CTR between Control and Variant A\n",
    "t_stat, p_value = ttest_ind(control['CTR'], variant_A['CTR'])\n",
    "print(\"CTR t-test: Control vs Variant A: t_stat = \", t_stat, \", p-value = \", p_value)\n",
    "\n",
    "# Perform t-test for Time Spent between Control and Variant A\n",
    "t_stat, p_value = ttest_ind(control['Time Spent'], variant_A['Time Spent'])\n",
    "print(\"Time Spent t-test: Control vs Variant A: t_stat = \", t_stat, \", p-value = \", p_value)\n",
    "\n",
    "# Perform t-test for CTR between Control and Variant B\n",
    "t_stat, p_value = ttest_ind(control['CTR'], variant_B['CTR'])\n",
    "print(\"CTR t-test: Control vs Variant B: t_stat = \", t_stat, \", p-value = \", p_value)\n",
    "\n",
    "# Perform t-test for Time Spent between Control and Variant B\n",
    "t_stat, p_value = ttest_ind(control['Time Spent'], variant_B['Time Spent'])\n",
    "print(\"Time Spent: for Control vs Variant B: t_stat = \", t_stat, \", p-value = \", p_value)\n"
   ]
  },
  {
   "attachments": {},
   "cell_type": "markdown",
   "metadata": {},
   "source": [
    "Based on the results we can interpret the following: \n",
    "Variant A: \n",
    "- For CTR, the null hypothesis can be rejected as the p-value is far less than the 0.05 significance level therefore suggesting that we have statistically significant evidence to suggest that Variant A results in a higher CTR compared to the control \n",
    "- For Time Spent, the null hypothesis can also be rejected for a reason similar to above ^\n",
    "\n",
    "Variant B: \n",
    "- For CTR, we can reject the null hypothesis as the p-value is far less than the 0.05 significance level therefore suggesting that we have statistically significant evidence to suggest that Variant B results in a higher CTR compared to the control \n",
    "- For Time Spent, the null hypothesis can also be rejected for a reason similar to above ^\n",
    "\n",
    "For all tests, the p-value is less than 0.05 (in fact, much smaller), which means that we can reject the null hypothesis (the assumption that there is no difference between the groups). The negative t-statistic score indicates that the mean for the variant groups is higher than the mean for the control group, aligning with the lift observed earlier."
   ]
  },
  {
   "attachments": {},
   "cell_type": "markdown",
   "metadata": {},
   "source": [
    "3. Summarize your results. Make a recommendation to the engineering team about which feature to deploy. \n",
    "\n",
    "A data analysis was performed on the experiment results in two phases. The first phase was a descriptive analysis where both Variant A and B showed an increase in Click-Through-Rate (CTR) and Time Spent in comparison to the control group. Variant A showed a 22.03% increase in CTR and a 23.59% increase in Time Spent while variant B resulted in a 10.53% increase in CTR and a 16.31% increase in Time Spent. The second phase was statistical testing, during which the t-test scores and p-values were calculated in order to determine whether the null hypothesis that there is no difference in CTR or Time Spent between the control group and the variant groups should be rejected or not. Based on both variants t-test results, there was strong evidence to reject the null hypothesis. For both Variant A and B, there were statistically significant increases in CTR and Time Spent as compared to the Control Group. However, Variant A did show a larger effect size than Variant B, indicating a higher lift in both CTR and Time Spent. \n",
    "\n",
    "Therefore, based on the results I would recommend the engineering team to consider deploying Variant A. This variant not only led to a statistically significant increase in both key metrics of CTR and Time Spent, but also demonstrated a larger effect size compared to Variant B, meaning the improvements were more substatial perhaps. However, it is also important to consider potential impact on other parts of the product and user experience. The engineering team should ensure that this change aligns well with the overall user experience and does not negatively impact other features or functionalities."
   ]
  },
  {
   "attachments": {},
   "cell_type": "markdown",
   "metadata": {},
   "source": [
    "4. Create a roll-out plan. How quickly will you introduce the feature to your audience?\n",
    "\n",
    "1) Polit Rollout\n",
    "We should first consider deploying the feature to a small percentage of the user base. This could be about 1 - 5 percent of our users. What this phase will allow us to do is monitor the new feature in the active/live environment with a smaller set of users and therefore easily catch any unexpected issues that were not identified during testing. \n",
    "\n",
    "2) Phased Rollout \n",
    "Once the pilot rollout is a success and does not show any major issues, we can then begin to gradually increase the percentage of new users who receive this new feature. The user increase plan can look something like this: \n",
    "- Week 1: Extend to 10% users \n",
    "- Week 2: Extend to 25% users \n",
    "- Week 3: Extend to 50% users \n",
    "- Week 4: Extend to 74% users\n",
    "During this phease, we can continue to monitor the performance of the new feature while collecting user feedback to ensure that the observed improvements from our analysis are still persisting. \n",
    "\n",
    "*Note: The specific percentages and timeline for the phased rollout can be adjusted based on the team's resources, the complexity of the feature, the size and diversity of your user base, and other factors. This plan is a general guideline and may need to be further customized based on needs, preferences, and resources.\n",
    "\n",
    "3) Complete rollout \n",
    "Finally, if the phased rollout goes well we can deploy the feature to 100% of our userbase. \n",
    "\n",
    "Throughout this plan, we need to ensure that there are strong mechanisms set in place for collecting user feedback and closely monitoring key metrics to ensure there is no negative impact. If any issues are detected during the pilot or rollout phase, we should be prepared to roll back the feature, fix the issues, and then resume the rollout plan."
   ]
  }
 ],
 "metadata": {
  "kernelspec": {
   "display_name": "Python 3",
   "language": "python",
   "name": "python3"
  },
  "language_info": {
   "codemirror_mode": {
    "name": "ipython",
    "version": 3
   },
   "file_extension": ".py",
   "mimetype": "text/x-python",
   "name": "python",
   "nbconvert_exporter": "python",
   "pygments_lexer": "ipython3",
   "version": "3.8.9"
  },
  "orig_nbformat": 4
 },
 "nbformat": 4,
 "nbformat_minor": 2
}
