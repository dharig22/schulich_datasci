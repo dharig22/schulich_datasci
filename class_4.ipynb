{
 "cells": [
  {
   "cell_type": "code",
   "execution_count": 28,
   "metadata": {},
   "outputs": [],
   "source": [
    "import pandas as pd\n",
    "import seaborn as sns"
   ]
  },
  {
   "cell_type": "code",
   "execution_count": 2,
   "metadata": {},
   "outputs": [],
   "source": [
    "df = pd.read_csv(\"new_data.csv\")"
   ]
  },
  {
   "cell_type": "code",
   "execution_count": 6,
   "metadata": {},
   "outputs": [
    {
     "data": {
      "text/html": [
       "<div>\n",
       "<style scoped>\n",
       "    .dataframe tbody tr th:only-of-type {\n",
       "        vertical-align: middle;\n",
       "    }\n",
       "\n",
       "    .dataframe tbody tr th {\n",
       "        vertical-align: top;\n",
       "    }\n",
       "\n",
       "    .dataframe thead th {\n",
       "        text-align: right;\n",
       "    }\n",
       "</style>\n",
       "<table border=\"1\" class=\"dataframe\">\n",
       "  <thead>\n",
       "    <tr style=\"text-align: right;\">\n",
       "      <th></th>\n",
       "      <th>Unnamed: 0</th>\n",
       "      <th>event_time</th>\n",
       "      <th>event_type</th>\n",
       "      <th>product_id</th>\n",
       "      <th>category_id</th>\n",
       "      <th>category_code</th>\n",
       "      <th>brand</th>\n",
       "      <th>price</th>\n",
       "      <th>user_id</th>\n",
       "      <th>user_session</th>\n",
       "    </tr>\n",
       "  </thead>\n",
       "  <tbody>\n",
       "    <tr>\n",
       "      <th>0</th>\n",
       "      <td>0</td>\n",
       "      <td>2019-11-01 00:00:00 UTC</td>\n",
       "      <td>view</td>\n",
       "      <td>1003461</td>\n",
       "      <td>2053013555631882655</td>\n",
       "      <td>electronics.smartphone</td>\n",
       "      <td>xiaomi</td>\n",
       "      <td>489.07</td>\n",
       "      <td>520088904</td>\n",
       "      <td>4d3b30da-a5e4-49df-b1a8-ba5943f1dd33</td>\n",
       "    </tr>\n",
       "    <tr>\n",
       "      <th>1</th>\n",
       "      <td>1</td>\n",
       "      <td>2019-11-01 00:00:00 UTC</td>\n",
       "      <td>view</td>\n",
       "      <td>5000088</td>\n",
       "      <td>2053013566100866035</td>\n",
       "      <td>appliances.sewing_machine</td>\n",
       "      <td>janome</td>\n",
       "      <td>293.65</td>\n",
       "      <td>530496790</td>\n",
       "      <td>8e5f4f83-366c-4f70-860e-ca7417414283</td>\n",
       "    </tr>\n",
       "    <tr>\n",
       "      <th>2</th>\n",
       "      <td>2</td>\n",
       "      <td>2019-11-01 00:00:01 UTC</td>\n",
       "      <td>view</td>\n",
       "      <td>17302664</td>\n",
       "      <td>2053013553853497655</td>\n",
       "      <td>NaN</td>\n",
       "      <td>creed</td>\n",
       "      <td>28.31</td>\n",
       "      <td>561587266</td>\n",
       "      <td>755422e7-9040-477b-9bd2-6a6e8fd97387</td>\n",
       "    </tr>\n",
       "    <tr>\n",
       "      <th>3</th>\n",
       "      <td>3</td>\n",
       "      <td>2019-11-01 00:00:01 UTC</td>\n",
       "      <td>view</td>\n",
       "      <td>3601530</td>\n",
       "      <td>2053013563810775923</td>\n",
       "      <td>appliances.kitchen.washer</td>\n",
       "      <td>lg</td>\n",
       "      <td>712.87</td>\n",
       "      <td>518085591</td>\n",
       "      <td>3bfb58cd-7892-48cc-8020-2f17e6de6e7f</td>\n",
       "    </tr>\n",
       "    <tr>\n",
       "      <th>4</th>\n",
       "      <td>4</td>\n",
       "      <td>2019-11-01 00:00:01 UTC</td>\n",
       "      <td>view</td>\n",
       "      <td>1004775</td>\n",
       "      <td>2053013555631882655</td>\n",
       "      <td>electronics.smartphone</td>\n",
       "      <td>xiaomi</td>\n",
       "      <td>183.27</td>\n",
       "      <td>558856683</td>\n",
       "      <td>313628f1-68b8-460d-84f6-cec7a8796ef2</td>\n",
       "    </tr>\n",
       "    <tr>\n",
       "      <th>...</th>\n",
       "      <td>...</td>\n",
       "      <td>...</td>\n",
       "      <td>...</td>\n",
       "      <td>...</td>\n",
       "      <td>...</td>\n",
       "      <td>...</td>\n",
       "      <td>...</td>\n",
       "      <td>...</td>\n",
       "      <td>...</td>\n",
       "      <td>...</td>\n",
       "    </tr>\n",
       "    <tr>\n",
       "      <th>9999995</th>\n",
       "      <td>9999995</td>\n",
       "      <td>2019-11-07 05:08:21 UTC</td>\n",
       "      <td>view</td>\n",
       "      <td>1005115</td>\n",
       "      <td>2053013555631882655</td>\n",
       "      <td>electronics.smartphone</td>\n",
       "      <td>apple</td>\n",
       "      <td>915.69</td>\n",
       "      <td>517800555</td>\n",
       "      <td>c6b764e0-561c-4c17-a546-2e922196bb49</td>\n",
       "    </tr>\n",
       "    <tr>\n",
       "      <th>9999996</th>\n",
       "      <td>9999996</td>\n",
       "      <td>2019-11-07 05:08:21 UTC</td>\n",
       "      <td>view</td>\n",
       "      <td>12707281</td>\n",
       "      <td>2053013553559896355</td>\n",
       "      <td>NaN</td>\n",
       "      <td>gislaved</td>\n",
       "      <td>90.86</td>\n",
       "      <td>539095445</td>\n",
       "      <td>b1673b33-d0ff-4a09-bf57-56dedc3d016e</td>\n",
       "    </tr>\n",
       "    <tr>\n",
       "      <th>9999997</th>\n",
       "      <td>9999997</td>\n",
       "      <td>2019-11-07 05:08:21 UTC</td>\n",
       "      <td>view</td>\n",
       "      <td>3601405</td>\n",
       "      <td>2053013563810775923</td>\n",
       "      <td>appliances.kitchen.washer</td>\n",
       "      <td>beko</td>\n",
       "      <td>180.16</td>\n",
       "      <td>548916637</td>\n",
       "      <td>e020a307-551c-4e58-a787-126701d30d41</td>\n",
       "    </tr>\n",
       "    <tr>\n",
       "      <th>9999998</th>\n",
       "      <td>9999998</td>\n",
       "      <td>2019-11-07 05:08:21 UTC</td>\n",
       "      <td>view</td>\n",
       "      <td>12711053</td>\n",
       "      <td>2053013553559896355</td>\n",
       "      <td>NaN</td>\n",
       "      <td>tunga</td>\n",
       "      <td>32.69</td>\n",
       "      <td>521586999</td>\n",
       "      <td>c8c48941-2ca1-4ce4-8d44-c96eb5df4fb5</td>\n",
       "    </tr>\n",
       "    <tr>\n",
       "      <th>9999999</th>\n",
       "      <td>9999999</td>\n",
       "      <td>2019-11-07 05:08:21 UTC</td>\n",
       "      <td>cart</td>\n",
       "      <td>1005121</td>\n",
       "      <td>2053013555631882655</td>\n",
       "      <td>electronics.smartphone</td>\n",
       "      <td>apple</td>\n",
       "      <td>947.98</td>\n",
       "      <td>563025983</td>\n",
       "      <td>9b19a94a-78b9-4ff8-8334-f48eed7cc0a0</td>\n",
       "    </tr>\n",
       "  </tbody>\n",
       "</table>\n",
       "<p>10000000 rows × 10 columns</p>\n",
       "</div>"
      ],
      "text/plain": [
       "         Unnamed: 0               event_time event_type  product_id   \n",
       "0                 0  2019-11-01 00:00:00 UTC       view     1003461  \\\n",
       "1                 1  2019-11-01 00:00:00 UTC       view     5000088   \n",
       "2                 2  2019-11-01 00:00:01 UTC       view    17302664   \n",
       "3                 3  2019-11-01 00:00:01 UTC       view     3601530   \n",
       "4                 4  2019-11-01 00:00:01 UTC       view     1004775   \n",
       "...             ...                      ...        ...         ...   \n",
       "9999995     9999995  2019-11-07 05:08:21 UTC       view     1005115   \n",
       "9999996     9999996  2019-11-07 05:08:21 UTC       view    12707281   \n",
       "9999997     9999997  2019-11-07 05:08:21 UTC       view     3601405   \n",
       "9999998     9999998  2019-11-07 05:08:21 UTC       view    12711053   \n",
       "9999999     9999999  2019-11-07 05:08:21 UTC       cart     1005121   \n",
       "\n",
       "                 category_id              category_code     brand   price   \n",
       "0        2053013555631882655     electronics.smartphone    xiaomi  489.07  \\\n",
       "1        2053013566100866035  appliances.sewing_machine    janome  293.65   \n",
       "2        2053013553853497655                        NaN     creed   28.31   \n",
       "3        2053013563810775923  appliances.kitchen.washer        lg  712.87   \n",
       "4        2053013555631882655     electronics.smartphone    xiaomi  183.27   \n",
       "...                      ...                        ...       ...     ...   \n",
       "9999995  2053013555631882655     electronics.smartphone     apple  915.69   \n",
       "9999996  2053013553559896355                        NaN  gislaved   90.86   \n",
       "9999997  2053013563810775923  appliances.kitchen.washer      beko  180.16   \n",
       "9999998  2053013553559896355                        NaN     tunga   32.69   \n",
       "9999999  2053013555631882655     electronics.smartphone     apple  947.98   \n",
       "\n",
       "           user_id                          user_session  \n",
       "0        520088904  4d3b30da-a5e4-49df-b1a8-ba5943f1dd33  \n",
       "1        530496790  8e5f4f83-366c-4f70-860e-ca7417414283  \n",
       "2        561587266  755422e7-9040-477b-9bd2-6a6e8fd97387  \n",
       "3        518085591  3bfb58cd-7892-48cc-8020-2f17e6de6e7f  \n",
       "4        558856683  313628f1-68b8-460d-84f6-cec7a8796ef2  \n",
       "...            ...                                   ...  \n",
       "9999995  517800555  c6b764e0-561c-4c17-a546-2e922196bb49  \n",
       "9999996  539095445  b1673b33-d0ff-4a09-bf57-56dedc3d016e  \n",
       "9999997  548916637  e020a307-551c-4e58-a787-126701d30d41  \n",
       "9999998  521586999  c8c48941-2ca1-4ce4-8d44-c96eb5df4fb5  \n",
       "9999999  563025983  9b19a94a-78b9-4ff8-8334-f48eed7cc0a0  \n",
       "\n",
       "[10000000 rows x 10 columns]"
      ]
     },
     "execution_count": 6,
     "metadata": {},
     "output_type": "execute_result"
    }
   ],
   "source": [
    "df"
   ]
  },
  {
   "cell_type": "code",
   "execution_count": 14,
   "metadata": {},
   "outputs": [
    {
     "data": {
      "text/plain": [
       "event_time\n",
       "2019-11-01 00:00:00 UTC     2\n",
       "2019-11-01 00:00:01 UTC     5\n",
       "2019-11-01 00:00:02 UTC     3\n",
       "2019-11-01 00:00:03 UTC     3\n",
       "2019-11-01 00:00:04 UTC     1\n",
       "                           ..\n",
       "2019-11-07 05:08:17 UTC    21\n",
       "2019-11-07 05:08:18 UTC    22\n",
       "2019-11-07 05:08:19 UTC    21\n",
       "2019-11-07 05:08:20 UTC    13\n",
       "2019-11-07 05:08:21 UTC    17\n",
       "Name: event_type, Length: 523423, dtype: int64"
      ]
     },
     "execution_count": 14,
     "metadata": {},
     "output_type": "execute_result"
    }
   ],
   "source": [
    "df.groupby(\"event_time\")[\"event_type\"].count()"
   ]
  },
  {
   "cell_type": "code",
   "execution_count": 16,
   "metadata": {},
   "outputs": [
    {
     "data": {
      "text/plain": [
       "Unnamed: 0         int64\n",
       "event_time        object\n",
       "event_type        object\n",
       "product_id         int64\n",
       "category_id        int64\n",
       "category_code     object\n",
       "brand             object\n",
       "price            float64\n",
       "user_id            int64\n",
       "user_session      object\n",
       "dtype: object"
      ]
     },
     "execution_count": 16,
     "metadata": {},
     "output_type": "execute_result"
    }
   ],
   "source": [
    "df.dtypes"
   ]
  },
  {
   "cell_type": "code",
   "execution_count": 19,
   "metadata": {},
   "outputs": [],
   "source": [
    "df['time'] = pd.to_datetime(df['event_time'])\n",
    "df['dates'] = df['time'].dt.date\n",
    "df['hour'] = df['time'].dt.hour"
   ]
  },
  {
   "cell_type": "code",
   "execution_count": 29,
   "metadata": {},
   "outputs": [
    {
     "data": {
      "text/plain": [
       "hour\n",
       "17    687053\n",
       "16    665704\n",
       "15    651845\n",
       "14    627998\n",
       "13    566220\n",
       "18    534887\n",
       "6     523783\n",
       "10    522258\n",
       "7     513770\n",
       "9     513042\n",
       "4     510997\n",
       "5     510283\n",
       "8     508335\n",
       "11    507677\n",
       "12    504820\n",
       "3     409023\n",
       "19    346460\n",
       "2     279908\n",
       "20    179369\n",
       "1     134446\n",
       "21    111575\n",
       "0      69919\n",
       "22     69439\n",
       "23     51189\n",
       "Name: event_type, dtype: int64"
      ]
     },
     "execution_count": 29,
     "metadata": {},
     "output_type": "execute_result"
    }
   ],
   "source": [
    "df2 = df.groupby(\"hour\")[\"event_type\"].count()\n",
    "df3 = df2.sort_values(ascending=False)\n",
    "df3"
   ]
  },
  {
   "cell_type": "code",
   "execution_count": 30,
   "metadata": {},
   "outputs": [
    {
     "data": {
      "text/plain": [
       "<Axes: xlabel='hour', ylabel='event_type'>"
      ]
     },
     "execution_count": 30,
     "metadata": {},
     "output_type": "execute_result"
    },
    {
     "data": {
      "image/png": "[encoded data removed]",
      "text/plain": [
       "<Figure size 640x480 with 1 Axes>"
      ]
     },
     "metadata": {},
     "output_type": "display_data"
    }
   ],
   "source": [
    "sns.scatterplot(df3)"
   ]
  }
 ],
 "metadata": {
  "kernelspec": {
   "display_name": "Python 3",
   "language": "python",
   "name": "python3"
  },
  "language_info": {
   "codemirror_mode": {
    "name": "ipython",
    "version": 3
   },
   "file_extension": ".py",
   "mimetype": "text/x-python",
   "name": "python",
   "nbconvert_exporter": "python",
   "pygments_lexer": "ipython3",
   "version": "3.8.9"
  },
  "orig_nbformat": 4
 },
 "nbformat": 4,
 "nbformat_minor": 2
}
